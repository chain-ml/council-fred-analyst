{
 "cells": [
  {
   "attachments": {},
   "cell_type": "markdown",
   "metadata": {},
   "source": [
    "### Setup"
   ]
  },
  {
   "cell_type": "code",
   "execution_count": 1,
   "metadata": {},
   "outputs": [],
   "source": [
    "from council.runners import Budget\n",
    "from council.contexts import AgentContext, ChatHistory\n",
    "from council.agents import Agent\n",
    "from council.chains import Chain\n",
    "from council.llm.openai_llm_configuration import OpenAILLMConfiguration\n",
    "from council.llm.openai_llm import OpenAILLM\n",
    "\n",
    "from council_controller import LLMInstructController\n",
    "from evaluator import BasicEvaluatorWithSource\n",
    "\n",
    "import dotenv\n",
    "import os\n",
    "\n",
    "from string import Template\n",
    "import toml\n",
    "import logging\n",
    "\n",
    "logging.basicConfig(\n",
    "    format=\"[%(asctime)s %(levelname)s %(threadName)s %(name)s:%(funcName)s:%(lineno)s] %(message)s\",\n",
    "    datefmt=\"%Y-%m-%d %H:%M:%S%z\",\n",
    ")\n",
    "logging.getLogger(\"council\").setLevel(logging.INFO)\n",
    "\n",
    "dotenv.load_dotenv()\n",
    "llm = OpenAILLM(config=OpenAILLMConfiguration.from_env())"
   ]
  },
  {
   "attachments": {},
   "cell_type": "markdown",
   "metadata": {},
   "source": [
    "### Load auxilliary files"
   ]
  },
  {
   "cell_type": "code",
   "execution_count": 2,
   "metadata": {},
   "outputs": [
    {
     "name": "stdout",
     "output_type": "stream",
     "text": [
      "You are an expert FRED data specialist. You generate or edit Python code to access the FRED economic database via the Python package fredapi.\n"
     ]
    }
   ],
   "source": [
    "fred_system_prompt = toml.load(\"../agent/prompts/fred_data_specialist_prompts.toml\")[\"system_message\"][\"prompt\"]\n",
    "print(fred_system_prompt)"
   ]
  },
  {
   "cell_type": "code",
   "execution_count": 3,
   "metadata": {},
   "outputs": [
    {
     "name": "stdout",
     "output_type": "stream",
     "text": [
      "# Task Description\n",
      "Your task is to produce expert-level Python code related to the analysis of economic time series.\n",
      "You will have access to data via FRED and the fredapi Python package.\n",
      "\n",
      "# fredapi README\n",
      "\n",
      "```markdown\n",
      "\n",
      "# fredapi: Python API for FRED (Federal Reserve Economic Data)\n",
      "\n",
      "`fredapi` is a Python API for the [FRED](http://research.stlouisfed.org/fred2/) data provided by the\n",
      "Federal Reserve Bank of St. Louis. `fredapi` provides a wrapper in python to the \n",
      "[FRED web service](http://api.stlouisfed.org/docs/fred/), and also provides several convenient methods\n",
      "for parsing and analyzing point-in-time data (i.e. historic data revisions) from [ALFRED](http://research.stlouisfed.org/tips/alfred/)\n",
      "\n",
      "`fredapi` makes use of `pandas` and returns data to you in a `pandas` `Series` or `DataFrame`\n",
      "\n",
      "## Basic Usage\n",
      "\n",
      "First you need an API key, you can [apply for one](http://api.stlouisfed.org/api_key.html) for free on the FRED website.\n",
      "Once you have your API key, you can set it in one of three ways:\n",
      "\n",
      "* set it to the evironment variable FRED_API_KEY\n",
      "* save it to a file and use the 'api_key_file' parameter\n",
      "* pass it directly as the 'api_key' parameter\n",
      "\n",
      "```python\n",
      "from fredapi import Fred\n",
      "fred = Fred(api_key='insert api key here')\n",
      "data = fred.get_series('SP500')\n",
      "```\n",
      "\n",
      "## Working with data revisions\n",
      "Many economic data series contain frequent revisions. `fredapi` provides several convenient methods for handling data revisions and answering the quesion of what-data-was-known-when.\n",
      "\n",
      "In [ALFRED](http://research.stlouisfed.org/tips/alfred/) there is the concept of a *vintage* date. Basically every *observation* can have three dates associated with it: *date*, *realtime_start* and *realtime_end*. \n",
      "\n",
      "- date: the date the value is for\n",
      "- realtime_start: the first date the value is valid\n",
      "- realitime_end: the last date the value is valid\n",
      "\n",
      "For instance, there has been three observations (data points) for the GDP of 2014 Q1:\n",
      "\n",
      "```xml\n",
      "<observation realtime_start=\"2014-04-30\" realtime_end=\"2014-05-28\" date=\"2014-01-01\" value=\"17149.6\"/>\n",
      "<observation realtime_start=\"2014-05-29\" realtime_end=\"2014-06-24\" date=\"2014-01-01\" value=\"17101.3\"/>\n",
      "<observation realtime_start=\"2014-06-25\" realtime_end=\"2014-07-29\" date=\"2014-01-01\" value=\"17016.0\"/>\n",
      "```\n",
      "\n",
      "This means the GDP value for Q1 2014 has been released three times. First release was on 4/30/2014 for a value of 17149.6, and then there have been two revisions on 5/29/2014 and 6/25/2014 for revised values of 17101.3 and 17016.0, respectively.\n",
      "\n",
      "### Get first data release only (i.e. ignore revisions)\n",
      "\n",
      "```python\n",
      "data = fred.get_series_first_release('GDP')\n",
      "data.tail()\n",
      "```\n",
      "this outputs:\n",
      "\n",
      "```sh\n",
      "date\n",
      "2013-04-01    16633.4\n",
      "2013-07-01    16857.6\n",
      "2013-10-01    17102.5\n",
      "2014-01-01    17149.6\n",
      "2014-04-01    17294.7\n",
      "Name: value, dtype: object\n",
      "```\n",
      "\n",
      "### Get latest data\n",
      "Note that this is the same as simply calling `get_series()`\n",
      "```python\n",
      "data = fred.get_series_latest_release('GDP')\n",
      "data.tail()\n",
      "```\n",
      "this outputs:\n",
      "```\n",
      "2013-04-01    16619.2\n",
      "2013-07-01    16872.3\n",
      "2013-10-01    17078.3\n",
      "2014-01-01    17044.0\n",
      "2014-04-01    17294.7\n",
      "dtype: float64\n",
      "```\n",
      "### Get latest data known on a given date\n",
      "\n",
      "```python\n",
      "fred.get_series_as_of_date('GDP', '6/1/2014')\n",
      "```\n",
      "this outputs:\n",
      "\n",
      "<table border=\"1\" class=\"dataframe\">\n",
      "  <thead>\n",
      "    <tr style=\"text-align: right;\">\n",
      "      <th></th>\n",
      "      <th>date</th>\n",
      "      <th>realtime_start</th>\n",
      "      <th>value</th>\n",
      "    </tr>\n",
      "  </thead>\n",
      "  <tbody>\n",
      "    <tr>\n",
      "      <th>2237</th>\n",
      "      <td> 2013-10-01 00:00:00</td>\n",
      "      <td> 2014-01-30 00:00:00</td>\n",
      "      <td> 17102.5</td>\n",
      "    </tr>\n",
      "    <tr>\n",
      "      <th>2238</th>\n",
      "      <td> 2013-10-01 00:00:00</td>\n",
      "      <td> 2014-02-28 00:00:00</td>\n",
      "      <td> 17080.7</td>\n",
      "    </tr>\n",
      "    <tr>\n",
      "      <th>2239</th>\n",
      "      <td> 2013-10-01 00:00:00</td>\n",
      "      <td> 2014-03-27 00:00:00</td>\n",
      "      <td> 17089.6</td>\n",
      "    </tr>\n",
      "    <tr>\n",
      "      <th>2241</th>\n",
      "      <td> 2014-01-01 00:00:00</td>\n",
      "      <td> 2014-04-30 00:00:00</td>\n",
      "      <td> 17149.6</td>\n",
      "    </tr>\n",
      "    <tr>\n",
      "      <th>2242</th>\n",
      "      <td> 2014-01-01 00:00:00</td>\n",
      "      <td> 2014-05-29 00:00:00</td>\n",
      "      <td> 17101.3</td>\n",
      "    </tr>\n",
      "  </tbody>\n",
      "</table>\n",
      "\n",
      "### Get all data release dates\n",
      "This returns a `DataFrame` with all the data from ALFRED\n",
      "\n",
      "```python\n",
      "df = fred.get_series_all_releases('GDP')\n",
      "df.tail()\n",
      "```\n",
      "this outputs:\n",
      "\n",
      "<table border=\"1\" class=\"dataframe\">\n",
      "  <thead>\n",
      "    <tr style=\"text-align: right;\">\n",
      "      <th></th>\n",
      "      <th>date</th>\n",
      "      <th>realtime_start</th>\n",
      "      <th>value</th>\n",
      "    </tr>\n",
      "  </thead>\n",
      "  <tbody>\n",
      "    <tr>\n",
      "      <th>2236</th>\n",
      "      <td> 2013-07-01 00:00:00</td>\n",
      "      <td> 2014-07-30 00:00:00</td>\n",
      "      <td> 16872.3</td>\n",
      "    </tr>\n",
      "    <tr>\n",
      "      <th>2237</th>\n",
      "      <td> 2013-10-01 00:00:00</td>\n",
      "      <td> 2014-01-30 00:00:00</td>\n",
      "      <td> 17102.5</td>\n",
      "    </tr>\n",
      "    <tr>\n",
      "      <th>2238</th>\n",
      "      <td> 2013-10-01 00:00:00</td>\n",
      "      <td> 2014-02-28 00:00:00</td>\n",
      "      <td> 17080.7</td>\n",
      "    </tr>\n",
      "    <tr>\n",
      "      <th>2239</th>\n",
      "      <td> 2013-10-01 00:00:00</td>\n",
      "      <td> 2014-03-27 00:00:00</td>\n",
      "      <td> 17089.6</td>\n",
      "    </tr>\n",
      "    <tr>\n",
      "      <th>2240</th>\n",
      "      <td> 2013-10-01 00:00:00</td>\n",
      "      <td> 2014-07-30 00:00:00</td>\n",
      "      <td> 17078.3</td>\n",
      "    </tr>\n",
      "    <tr>\n",
      "      <th>2241</th>\n",
      "      <td> 2014-01-01 00:00:00</td>\n",
      "      <td> 2014-04-30 00:00:00</td>\n",
      "      <td> 17149.6</td>\n",
      "    </tr>\n",
      "    <tr>\n",
      "      <th>2242</th>\n",
      "      <td> 2014-01-01 00:00:00</td>\n",
      "      <td> 2014-05-29 00:00:00</td>\n",
      "      <td> 17101.3</td>\n",
      "    </tr>\n",
      "    <tr>\n",
      "      <th>2243</th>\n",
      "      <td> 2014-01-01 00:00:00</td>\n",
      "      <td> 2014-06-25 00:00:00</td>\n",
      "      <td>   17016</td>\n",
      "    </tr>\n",
      "    <tr>\n",
      "      <th>2244</th>\n",
      "      <td> 2014-01-01 00:00:00</td>\n",
      "      <td> 2014-07-30 00:00:00</td>\n",
      "      <td>   17044</td>\n",
      "    </tr>\n",
      "    <tr>\n",
      "      <th>2245</th>\n",
      "      <td> 2014-04-01 00:00:00</td>\n",
      "      <td> 2014-07-30 00:00:00</td>\n",
      "      <td> 17294.7</td>\n",
      "    </tr>\n",
      "  </tbody>\n",
      "</table>\n",
      "\n",
      "### Get all vintage dates\n",
      "```python\n",
      "from __future__ import print_function\n",
      "vintage_dates = fred.get_series_vintage_dates('GDP')\n",
      "for dt in vintage_dates[-5:]:\n",
      "    print(dt.strftime('%Y-%m-%d'))\n",
      "```\n",
      "this outputs:\n",
      "```\n",
      "2014-03-27\n",
      "2014-04-30\n",
      "2014-05-29\n",
      "2014-06-25\n",
      "2014-07-30\n",
      "```\n",
      "\n",
      "### Search for data series\n",
      "\n",
      "You can always search for data series on the FRED website. But sometimes it can be more convenient to search programmatically.\n",
      "`fredapi` provides a `search()` method that does a fulltext search and returns a `DataFrame` of results.\n",
      "\n",
      "```python\n",
      "fred.search('potential gdp').T\n",
      "```\n",
      "this outputs:\n",
      "\n",
      "<table border=\"1\" class=\"dataframe\">\n",
      "  <thead>\n",
      "    <tr style=\"text-align: right;\">\n",
      "      <th>series id</th>\n",
      "      <th>GDPPOT</th>\n",
      "      <th>NGDPPOT</th>\n",
      "    </tr>\n",
      "  </thead>\n",
      "  <tbody>\n",
      "    <tr>\n",
      "      <th>frequency</th>\n",
      "      <td>Quarterly</td>\n",
      "      <td>Quarterly</td>\n",
      "    </tr>\n",
      "    <tr>\n",
      "      <th>frequency_short</th>\n",
      "      <td>Q</td>\n",
      "      <td>Q</td>\n",
      "    </tr>\n",
      "    <tr>\n",
      "      <th>id</th>\n",
      "      <td>GDPPOT</td>\n",
      "      <td>NGDPPOT</td>\n",
      "    </tr>\n",
      "    <tr>\n",
      "      <th>last_updated</th>\n",
      "      <td>2014-02-04 10:06:03-06:00</td>\n",
      "      <td>2014-02-04 10:06:03-06:00</td>\n",
      "    </tr>\n",
      "    <tr>\n",
      "      <th>notes</th>\n",
      "      <td> Real potential GDP is the CBO&#39;s estimate of the output the economy would produce with a high rate of use of its capital and labor resources. The data is adjusted to remove the effects of inflation.</td>\n",
      "      <td>None</td>\n",
      "    </tr>\n",
      "    <tr>\n",
      "      <th>observation_end</th>\n",
      "      <td>2024-10-01 00:00:00</td>\n",
      "      <td>2024-10-01 00:00:00</td>\n",
      "    </tr>\n",
      "    <tr>\n",
      "      <th>observation_start</th>\n",
      "      <td>1949-01-01 00:00:00</td>\n",
      "      <td>1949-01-01 00:00:00</td>\n",
      "    </tr>\n",
      "    <tr>\n",
      "      <th>popularity</th>\n",
      "      <td>72</td>\n",
      "      <td>61</td>\n",
      "    </tr>\n",
      "    <tr>\n",
      "      <th>realtime_end</th>\n",
      "      <td>2014-08-23 00:00:00</td>\n",
      "      <td>2014-08-23 00:00:00</td>\n",
      "    </tr>\n",
      "    <tr>\n",
      "      <th>realtime_start</th>\n",
      "      <td>2014-08-23 00:00:00</td>\n",
      "      <td>2014-08-23 00:00:00</td>\n",
      "    </tr>\n",
      "    <tr>\n",
      "      <th>seasonal_adjustment</th>\n",
      "      <td>Not Seasonally Adjusted</td>\n",
      "      <td>Not Seasonally Adjusted</td>\n",
      "    </tr>\n",
      "    <tr>\n",
      "      <th>seasonal_adjustment_short</th>\n",
      "      <td>NSA</td>\n",
      "      <td>NSA</td>\n",
      "    </tr>\n",
      "    <tr>\n",
      "      <th>title</th>\n",
      "      <td>Real Potential Gross Domestic Product</td>\n",
      "      <td>Nominal Potential Gross Domestic Product</td>\n",
      "    </tr>\n",
      "    <tr>\n",
      "      <th>units</th>\n",
      "      <td>Billions of Chained 2009 Dollars</td>\n",
      "      <td>Billions of Dollars</td>\n",
      "    </tr>\n",
      "    <tr>\n",
      "      <th>units_short</th>\n",
      "      <td>Bil. of Chn. 2009 &#36;</td>\n",
      "      <td>Bil. of &#36;</td>\n",
      "    </tr>\n",
      "  </tbody>\n",
      "</table>\n",
      "\n",
      "## Dependencies\n",
      "- [pandas](http://pandas.pydata.org/)\n",
      "\n",
      "## More Examples\n",
      "- I have a [blog post with more examples](http://mortada.net/python-api-for-fred.html) written in an `IPython` notebook\n",
      "\n",
      "```\n",
      "\n",
      "# REQUIRED CODE HEADER\n",
      "Always begin your SOLUTION with the following code snippet (it contains important imports and API configuration):\n",
      "$code_header\n",
      "\n",
      "# INSTRUCTIONS\n",
      "- Review the fredapi README (above) for correct usage examples.\n",
      "- Write or edit Python code to retrieve requested data from FRED using fredapi.\n",
      "- Place all code in a single code block, formatted as ```python {code} ```\n",
      "- Follow PEP 8 style guides, including a max line length of 79 characters.\n",
      "- Always include print statements to interact with the user, including when you need more details.\n",
      "- Always include a print statement at the end of the script to summarize what you've done for the user.\n",
      "- Never use the input function to request input from the user. Instead, print your message to the standard output.\n",
      "- Only load data into Pandas DataFrames in-memory, i.e. do not save any files to the filesystem.\n",
      "- Make sure to use clear variable names and comments to indicate where data has been loaded.\n",
      "\n",
      "# EXISTING CODE\n",
      "Read the following code and re-use any part of it that is useful.\n",
      "$existing_code\n",
      "\n",
      "# TASK\n",
      "$task\n",
      "\n",
      "# SOLUTION (formatted precisely as  ```python {REQUIRED CODE HEADER} {your generated code} ```)\n",
      "\n"
     ]
    }
   ],
   "source": [
    "fred_prompt_template = Template(toml.load(\"../agent/prompts/fred_data_specialist_prompts.toml\")[\"main_prompt\"][\"prompt\"])\n",
    "print(fred_prompt_template.template)"
   ]
  },
  {
   "cell_type": "code",
   "execution_count": 4,
   "metadata": {},
   "outputs": [
    {
     "name": "stdout",
     "output_type": "stream",
     "text": [
      "import pandas as pd\n",
      "from fredapi import Fred\n",
      "import plotly.io as pio\n",
      "pio.renderers.default = \"firefox\"\n",
      "\n",
      "fred = Fred(api_key=os.getenv(\"FRED_API_KEY\"))\n",
      "\n"
     ]
    }
   ],
   "source": [
    "code_header = toml.load(\"./prompts/description.toml\")['code_header']['code']\n",
    "print(code_header)"
   ]
  },
  {
   "cell_type": "code",
   "execution_count": 5,
   "metadata": {},
   "outputs": [
    {
     "name": "stdout",
     "output_type": "stream",
     "text": [
      "You are an AI data scientist specialized in economic time series data. You have expert-level skills in data analytics using Python, Pandas, scikit-learn, and scipy. You use plotly for data visualization.\n"
     ]
    }
   ],
   "source": [
    "code_editor_system_prompt = toml.load(\"./prompts/code_editor_prompt.toml\")['system_message']['prompt']\n",
    "print(code_editor_system_prompt)"
   ]
  },
  {
   "cell_type": "code",
   "execution_count": 6,
   "metadata": {},
   "outputs": [
    {
     "name": "stdout",
     "output_type": "stream",
     "text": [
      "# TASK DESCRIPTION\n",
      "Your task is to write or edit expert-level Python code related to the analysis of economic time series.\n",
      "\n",
      "## EXISTING PYTHON CODE\n",
      "$existing_code\n",
      "\n",
      "## REQUIRED CODE HEADER\n",
      "Always make sure the SOLUTION begins with the following code snippet:\n",
      "$code_header\n",
      "\n",
      "# INSTRUCTIONS\n",
      "- If possible, edit the EXISTING PYTHON CODE to solve the Task.\n",
      "- Otherwise, write a new script to solve the Task.\n",
      "- Begin with comments that explain your step-by-step approach to solving the problem.\n",
      "- Place all code in a single code block, formatted as ```python {code} ```\n",
      "- All available and required data are accessible in `data_sources`. Use only these dataframes to solve the task.\n",
      "- Follow PEP 8 style guides, including a max line length of 79 characters.\n",
      "- Always include print statements to interact with the user, including when you need more details.\n",
      "- Always include a print statement at the end of the script to summarize what you've done for the user.\n",
      "- Never use the input function to request input from the user. Instead, print your message to the standard output.\n",
      "\n",
      "# TASK\n",
      "$task\n",
      "\n",
      "# SOLUTION (formatted precisely as  ```python {REQUIRED CODE HEADER} {your generated code} ```)\n",
      "\n",
      "\n"
     ]
    }
   ],
   "source": [
    "code_editor_prompt_template = Template(toml.load(\"./prompts/code_editor_prompt.toml\")['main_prompt']['prompt'])\n",
    "print(code_editor_prompt_template.template)"
   ]
  },
  {
   "cell_type": "code",
   "execution_count": 7,
   "metadata": {},
   "outputs": [
    {
     "name": "stdout",
     "output_type": "stream",
     "text": [
      "You are an expert Python code reviewer.\n"
     ]
    }
   ],
   "source": [
    "code_correction_system_prompt = toml.load(\"./prompts/code_correction_prompt.toml\")['system_message']['prompt']\n",
    "print(code_correction_system_prompt)"
   ]
  },
  {
   "cell_type": "code",
   "execution_count": 8,
   "metadata": {},
   "outputs": [
    {
     "name": "stdout",
     "output_type": "stream",
     "text": [
      "# Task Description\n",
      "Your task is to correct errors in Python code.\n",
      "After reviewing the PYTHON CODE, ERROR MESSAGE, and TASK, you will generate corrected Python code.\n",
      "\n",
      "## PYTHON CODE\n",
      "$code\n",
      "\n",
      "## ERROR MESSAGE\n",
      "$error_message\n",
      "\n",
      "## REQUIRED CODE HEADER\n",
      "Always begin your SOLUTION with the following code snippet:\n",
      "$code_header\n",
      "\n",
      "## INSTRUCTIONS\n",
      "- Edit the ## Python Code to solve the Task.\n",
      "- Include comments that explain your step-by-step approach to resolving the problem.\n",
      "- Place all code in a single code block, formatted as ```python {code} ```\n",
      "- All available and required data are accessible in `data_sources`. Use only these dataframes to solve the task.\n",
      "- Follow PEP 8 style guides, including a max line length of 79 characters.\n",
      "- Always include print statements to interact with the user, including when you need more details.\n",
      "- Always include a print statement at the end of the script to summarize what you've done for the user.\n",
      "- Never use the input function to request input from the user. Instead, print your message to the standard output.\n",
      "\n",
      "## TASK\n",
      "$task\n",
      "\n",
      "# SOLUTION (formatted precisely as  ```python {REQUIRED CODE HEADER} {your generated code} ```)\n",
      "\n",
      "\n"
     ]
    }
   ],
   "source": [
    "code_correction_prompt_template = Template(toml.load(\"./prompts/code_correction_prompt.toml\")['main_prompt']['prompt'])\n",
    "print(code_correction_prompt_template.template)"
   ]
  },
  {
   "attachments": {},
   "cell_type": "markdown",
   "metadata": {},
   "source": [
    "### Build Skills, Chains, and Agents"
   ]
  },
  {
   "attachments": {},
   "cell_type": "markdown",
   "metadata": {},
   "source": [
    "#### Skills"
   ]
  },
  {
   "cell_type": "code",
   "execution_count": 9,
   "metadata": {},
   "outputs": [],
   "source": [
    "from skills import FredDataSpecialist, PythonCodeEditorSkill, ParsePythonSkill, PythonExecutionSkill, GeneralSkill\n",
    "\n",
    "\"\"\"\n",
    "FRED Data Specialist\n",
    "\"\"\"\n",
    "fred_data_specialist = FredDataSpecialist(\n",
    "    llm,\n",
    "    system_prompt=fred_system_prompt,\n",
    "    main_prompt_template=fred_prompt_template,\n",
    "    code_header=code_header,\n",
    ")\n",
    "\n",
    "\"\"\"\n",
    "Specialized Python code editing skill for daily securities price analysis.\n",
    "\"\"\"\n",
    "code_editing_skill = PythonCodeEditorSkill(\n",
    "    llm,\n",
    "    system_prompt=code_editor_system_prompt,\n",
    "    editor_prompt_template=code_editor_prompt_template,\n",
    "    code_header=code_header\n",
    ")\n",
    "\n",
    "\"\"\"\n",
    "Validate/parse Python code block - could easily be generalized to regex pattern matching skill.\n",
    "\"\"\"\n",
    "parse_python_skill = ParsePythonSkill()\n",
    "\n",
    "\"\"\"\n",
    "Execute Python code locally in host environment - UNSAFE.\n",
    "\"\"\"\n",
    "python_execution_skill = PythonExecutionSkill(\n",
    "    llm,\n",
    "    code_correction_system_prompt,\n",
    "    code_correction_prompt_template,\n",
    "    code_header,\n",
    "    python_bin_dir=os.environ['PYTHON_BIN_DIR']\n",
    ")\n",
    "\n",
    "\"\"\"\n",
    "General Skill\n",
    "\"\"\"\n",
    "general_skill = GeneralSkill(llm, system_prompt=\"\"\"You are a friendly, helpful assistant. \n",
    "            Generate a brief response accoring to the provided instruction; 2 sentences at most.\"\"\")"
   ]
  },
  {
   "attachments": {},
   "cell_type": "markdown",
   "metadata": {},
   "source": [
    "#### Chains"
   ]
  },
  {
   "cell_type": "code",
   "execution_count": 10,
   "metadata": {},
   "outputs": [],
   "source": [
    "fred_data_specialist_chain = Chain(\n",
    "    name=\"fred_data_specialist\",\n",
    "    description=\"Identify and access economic datasets from the FRED database. Use this chain when you need to generate or edit code for accessing or downloading data from FRED.\",\n",
    "    runners=[fred_data_specialist, parse_python_skill]\n",
    ")\n",
    "\n",
    "code_editing_and_execution_chain = Chain(\n",
    "    name=\"data_analysis_code_editing_and_execution\",\n",
    "    description=\"Generate/edit and execute existing Python code for data analytics and visualization. Use this chain if the user wants to generate new code or edit existing code related to data analysis.\",\n",
    "    runners=[\n",
    "        code_editing_skill,\n",
    "        parse_python_skill,\n",
    "        python_execution_skill,\n",
    "    ],\n",
    ")\n",
    "\n",
    "code_editing_chain = Chain(\n",
    "    name=\"data_analysis_code_editing\",\n",
    "    description=\"Generate/edit (but do not execute) Python code for data analytics and visualization. Use this chain if the user wants to generate new code or edit existing code related to data analysis.\",\n",
    "    runners=[\n",
    "        code_editing_skill,\n",
    "        parse_python_skill,\n",
    "    ],\n",
    ")\n",
    "\n",
    "code_execution_chain = Chain(\n",
    "    name=\"code_execution_and_correction\",\n",
    "    description=\"Execute (but do not edit) existing Python code for data analytics and visualization. Use this chain if the user wants to run existing code.\",\n",
    "    runners=[\n",
    "        parse_python_skill,\n",
    "        python_execution_skill,\n",
    "    ],\n",
    ")\n",
    "\n",
    "general_chain = Chain(\n",
    "    name=\"general\",\n",
    "    description=\"Answer general questions without the use of any specialized skills. Use this when the user needs the answer to a question that doesn't require any coding.\",\n",
    "    runners=[general_skill],\n",
    ")"
   ]
  },
  {
   "attachments": {},
   "cell_type": "markdown",
   "metadata": {},
   "source": [
    "#### Agent"
   ]
  },
  {
   "cell_type": "code",
   "execution_count": 11,
   "metadata": {},
   "outputs": [],
   "source": [
    "controller = LLMInstructController(\n",
    "    llm=llm, \n",
    "    hints=[],\n",
    "    top_k_execution_plan=1\n",
    ")\n",
    "evaluator = BasicEvaluatorWithSource()\n",
    "\n",
    "agent = Agent(\n",
    "    controller=controller, \n",
    "    chains=[fred_data_specialist_chain, code_editing_chain, code_editing_and_execution_chain, code_execution_chain, general_chain], \n",
    "    evaluator=evaluator\n",
    ")\n",
    "\n",
    "agent.controller._state[\"code\"] = None"
   ]
  },
  {
   "attachments": {},
   "cell_type": "markdown",
   "metadata": {},
   "source": [
    "### Run the Agent"
   ]
  },
  {
   "cell_type": "code",
   "execution_count": 12,
   "metadata": {},
   "outputs": [
    {
     "name": "stderr",
     "output_type": "stream",
     "text": [
      "[2023-08-08 13:59:32-0400 INFO MainThread council.agents.agent:execute:60] message=\"agent execution started\"\n",
      "[2023-08-08 13:59:32-0400 INFO MainThread council.agents.agent:execute:62] message=\"agent iteration started\" iteration=\"1\"\n"
     ]
    },
    {
     "name": "stdout",
     "output_type": "stream",
     "text": [
      "User Message: I want to do an analysis of economic time series that are either directly or indirectly related to food consumer price index.\n"
     ]
    },
    {
     "name": "stderr",
     "output_type": "stream",
     "text": [
      "[2023-08-08 13:59:35-0400 INFO MainThread council:get_plan:130] Controller Message: fred_data_specialist;8;Please identify and access economic datasets from the FRED database that are directly or indirectly related to the food consumer price index.\n",
      "[2023-08-08 13:59:35-0400 INFO MainThread council.agents.agent:execute:71] message=\"chain execution started\" chain=\"fred_data_specialist\" execution_unit=\"fred_data_specialist;8\"\n",
      "[2023-08-08 13:59:35-0400 INFO chain_fred_data_specialist_0 council.skills.skill_base:execute_skill:82] message=\"skill execution started\" skill=\"FredDataSpecialist\"\n",
      "[2023-08-08 13:59:49-0400 INFO chain_fred_data_specialist_0 council.skills.skill_base:execute_skill:85] message=\"skill execution ended\" skill=\"FredDataSpecialist\" skill_message=\"I've generated code for you and placed it in the 'data' field.\"\n",
      "[2023-08-08 13:59:49-0400 INFO chain_fred_data_specialist_0 council.skills.skill_base:execute_skill:82] message=\"skill execution started\" skill=\"ParsePythonSkill\"\n",
      "[2023-08-08 13:59:49-0400 INFO chain_fred_data_specialist_0 council.skills.skill_base:execute_skill:85] message=\"skill execution ended\" skill=\"ParsePythonSkill\" skill_message=\"Parsing succeeded.\"\n",
      "[2023-08-08 13:59:49-0400 INFO MainThread council.agents.agent:execute:76] message=\"chain execution ended\" chain=\"fred_data_specialist\" execution_unit=\"fred_data_specialist;8\"\n",
      "[2023-08-08 13:59:49-0400 INFO MainThread council.agents.agent:execute:88] message=\"agent execution ended\"\n"
     ]
    },
    {
     "name": "stdout",
     "output_type": "stream",
     "text": [
      "Parsing succeeded.\n",
      "\n"
     ]
    }
   ],
   "source": [
    "def interact(agent, context, message):\n",
    "    print(f\"User Message: {message}\")\n",
    "    context.chatHistory.add_user_message(message)\n",
    "    result = agent.execute(context=context, budget=Budget(180))\n",
    "    print(result.best_message.message)\n",
    "    print()\n",
    "\n",
    "chat_history = ChatHistory()\n",
    "context = AgentContext(chat_history=chat_history)\n",
    "message = \"I want to do an analysis of economic time series that are either directly or indirectly related to food consumer price index.\"\n",
    "interact(agent, context, message)"
   ]
  },
  {
   "cell_type": "code",
   "execution_count": 13,
   "metadata": {},
   "outputs": [
    {
     "name": "stdout",
     "output_type": "stream",
     "text": [
      "import pandas as pd\n",
      "from fredapi import Fred\n",
      "import os\n",
      "import plotly.io as pio\n",
      "pio.renderers.default = \"firefox\"\n",
      "\n",
      "fred = Fred(api_key=os.getenv(\"FRED_API_KEY\"))\n",
      "\n",
      "# Search for data series related to the food consumer price index\n",
      "search_results = fred.search('food consumer price index')\n",
      "print(search_results.T)\n",
      "\n",
      "# Get the series id for the first result\n",
      "series_id = search_results.index[0]\n",
      "\n",
      "# Get the data for this series\n",
      "data = fred.get_series(series_id)\n",
      "\n",
      "# Print the data\n",
      "print(data)\n",
      "\n",
      "# Summary\n",
      "print(f\"Accessed the '{series_id}' series from the FRED database, which is related to the food consumer price index.\")\n"
     ]
    }
   ],
   "source": [
    "print(agent.controller._state[\"code\"])"
   ]
  },
  {
   "cell_type": "code",
   "execution_count": 14,
   "metadata": {},
   "outputs": [
    {
     "name": "stderr",
     "output_type": "stream",
     "text": [
      "[2023-08-08 13:59:49-0400 INFO MainThread council.agents.agent:execute:60] message=\"agent execution started\"\n",
      "[2023-08-08 13:59:49-0400 INFO MainThread council.agents.agent:execute:62] message=\"agent iteration started\" iteration=\"2\"\n"
     ]
    },
    {
     "name": "stdout",
     "output_type": "stream",
     "text": [
      "User Message: can you please run it?\n"
     ]
    },
    {
     "name": "stderr",
     "output_type": "stream",
     "text": [
      "[2023-08-08 13:59:54-0400 INFO MainThread council:get_plan:130] Controller Message: code_execution_and_correction;9;Please execute the provided Python code which accesses data from the FRED database and performs an analysis on the food consumer price index.\n",
      "[2023-08-08 13:59:54-0400 INFO MainThread council.agents.agent:execute:71] message=\"chain execution started\" chain=\"code_execution_and_correction\" execution_unit=\"code_execution_and_correction;9\"\n",
      "[2023-08-08 13:59:54-0400 INFO chain_code_execution_and_correction_0 council.skills.skill_base:execute_skill:82] message=\"skill execution started\" skill=\"ParsePythonSkill\"\n",
      "[2023-08-08 13:59:54-0400 INFO chain_code_execution_and_correction_0 council.skills.skill_base:execute_skill:85] message=\"skill execution ended\" skill=\"ParsePythonSkill\" skill_message=\"Parsing succeded.\"\n",
      "[2023-08-08 13:59:54-0400 INFO chain_code_execution_and_correction_0 council.skills.skill_base:execute_skill:82] message=\"skill execution started\" skill=\"PythonExecutionSkill\"\n"
     ]
    },
    {
     "name": "stdout",
     "output_type": "stream",
     "text": [
      "Starting execution...\n"
     ]
    },
    {
     "name": "stderr",
     "output_type": "stream",
     "text": [
      "[2023-08-08 13:59:57-0400 INFO chain_code_execution_and_correction_0 council.skills.skill_base:execute_skill:85] message=\"skill execution ended\" skill=\"PythonExecutionSkill\" skill_message=\"series id                                                           CPIAUCSL  ...                                 00XFUNEZ19M086NEST\n",
      "id                                                                  CPIAUCSL  ...                                 00XFUNEZ19M086NEST\n",
      "realtime_start                                           2023-08-08 00:00:00  ...                                2023-08-08 00:00:00\n",
      "realtime_end                                             2023-08-08 00:00:00  ...                                2023-08-08 00:00:00\n",
      "title                      Consumer Price Index for All Urban Consumers: ...  ...  Harmonized Index of Consumer Prices: Overall I...\n",
      "observation_start                                        1947-01-01 00:00:00  ...                                2000-12-01 00:00:00\n",
      "observation_end                                          2023-06-01 00:00:00  ...                                2023-06-01 00:00:00\n",
      "frequency                                                            Monthly  ...                                            Monthly\n",
      "frequency_short                                                            M  ...                                                  M\n",
      "units                                                    Index 1982-1984=100  ...                                     Index 2015=100\n",
      "units_short                                              Index 1982-1984=100  ...                                     Index 2015=100\n",
      "seasonal_adjustment                                      Seasonally Adjusted  ...                            Not Seasonally Adjusted\n",
      "seasonal_adjustment_short                                                 SA  ...                                                NSA\n",
      "last_updated                                       2023-07-12 07:41:01-05:00  ...                          2023-07-19 07:07:28-05:00\n",
      "popularity                                                                93  ...                                                  1\n",
      "notes                      The Consumer Price Index for All Urban Consume...  ...  The Harmonized Index of Consumer Prices catego...\n",
      "\n",
      "[15 rows x 1000 columns]\n",
      "1947-01-01     21.480\n",
      "1947-02-01     21.620\n",
      "1947-03-01     22.000\n",
      "1947-04-01     22.000\n",
      "1947-05-01     21.950\n",
      "               ...   \n",
      "2023-02-01    301.648\n",
      "2023-03-01    301.808\n",
      "2023-04-01    302.918\n",
      "2023-05-01    303.294\n",
      "2023-06-01    303.841\n",
      "Length: 918, dtype: float64\n",
      "Accessed the 'CPIAUCSL' series from the FRED database, which is related to the food consumer price index.\"\n",
      "[2023-08-08 13:59:57-0400 INFO MainThread council.agents.agent:execute:76] message=\"chain execution ended\" chain=\"code_execution_and_correction\" execution_unit=\"code_execution_and_correction;9\"\n",
      "[2023-08-08 13:59:57-0400 INFO MainThread council.agents.agent:execute:88] message=\"agent execution ended\"\n"
     ]
    },
    {
     "name": "stdout",
     "output_type": "stream",
     "text": [
      "series id                                                           CPIAUCSL  ...                                 00XFUNEZ19M086NEST\n",
      "id                                                                  CPIAUCSL  ...                                 00XFUNEZ19M086NEST\n",
      "realtime_start                                           2023-08-08 00:00:00  ...                                2023-08-08 00:00:00\n",
      "realtime_end                                             2023-08-08 00:00:00  ...                                2023-08-08 00:00:00\n",
      "title                      Consumer Price Index for All Urban Consumers: ...  ...  Harmonized Index of Consumer Prices: Overall I...\n",
      "observation_start                                        1947-01-01 00:00:00  ...                                2000-12-01 00:00:00\n",
      "observation_end                                          2023-06-01 00:00:00  ...                                2023-06-01 00:00:00\n",
      "frequency                                                            Monthly  ...                                            Monthly\n",
      "frequency_short                                                            M  ...                                                  M\n",
      "units                                                    Index 1982-1984=100  ...                                     Index 2015=100\n",
      "units_short                                              Index 1982-1984=100  ...                                     Index 2015=100\n",
      "seasonal_adjustment                                      Seasonally Adjusted  ...                            Not Seasonally Adjusted\n",
      "seasonal_adjustment_short                                                 SA  ...                                                NSA\n",
      "last_updated                                       2023-07-12 07:41:01-05:00  ...                          2023-07-19 07:07:28-05:00\n",
      "popularity                                                                93  ...                                                  1\n",
      "notes                      The Consumer Price Index for All Urban Consume...  ...  The Harmonized Index of Consumer Prices catego...\n",
      "\n",
      "[15 rows x 1000 columns]\n",
      "1947-01-01     21.480\n",
      "1947-02-01     21.620\n",
      "1947-03-01     22.000\n",
      "1947-04-01     22.000\n",
      "1947-05-01     21.950\n",
      "               ...   \n",
      "2023-02-01    301.648\n",
      "2023-03-01    301.808\n",
      "2023-04-01    302.918\n",
      "2023-05-01    303.294\n",
      "2023-06-01    303.841\n",
      "Length: 918, dtype: float64\n",
      "Accessed the 'CPIAUCSL' series from the FRED database, which is related to the food consumer price index.\n",
      "\n"
     ]
    }
   ],
   "source": [
    "message = \"can you please run it?\"\n",
    "interact(agent, context, message)"
   ]
  },
  {
   "cell_type": "code",
   "execution_count": 15,
   "metadata": {},
   "outputs": [
    {
     "name": "stderr",
     "output_type": "stream",
     "text": [
      "[2023-08-08 13:59:57-0400 INFO MainThread council.agents.agent:execute:60] message=\"agent execution started\"\n",
      "[2023-08-08 13:59:57-0400 INFO MainThread council.agents.agent:execute:62] message=\"agent iteration started\" iteration=\"3\"\n"
     ]
    },
    {
     "name": "stdout",
     "output_type": "stream",
     "text": [
      "User Message: can we plot the top 10?\n"
     ]
    },
    {
     "name": "stderr",
     "output_type": "stream",
     "text": [
      "[2023-08-08 14:00:05-0400 INFO MainThread council:get_plan:130] Controller Message: data_analysis_code_editing_and_execution;8;Please generate and execute Python code to plot the top 10 data series related to the food consumer price index from the previously accessed FRED data.\n",
      "[2023-08-08 14:00:05-0400 INFO MainThread council.agents.agent:execute:71] message=\"chain execution started\" chain=\"data_analysis_code_editing_and_execution\" execution_unit=\"data_analysis_code_editing_and_execution;8\"\n",
      "[2023-08-08 14:00:05-0400 INFO chain_data_analysis_code_editing_and_execution_0 council.skills.skill_base:execute_skill:82] message=\"skill execution started\" skill=\"PythonCodeEditorSkill\"\n",
      "[2023-08-08 14:00:55-0400 INFO chain_data_analysis_code_editing_and_execution_0 council.skills.skill_base:execute_skill:85] message=\"skill execution ended\" skill=\"PythonCodeEditorSkill\" skill_message=\"I've edited code for you and placed the result in the 'data' field.\"\n",
      "[2023-08-08 14:00:55-0400 INFO chain_data_analysis_code_editing_and_execution_0 council.skills.skill_base:execute_skill:82] message=\"skill execution started\" skill=\"ParsePythonSkill\"\n",
      "[2023-08-08 14:00:55-0400 INFO chain_data_analysis_code_editing_and_execution_0 council.skills.skill_base:execute_skill:85] message=\"skill execution ended\" skill=\"ParsePythonSkill\" skill_message=\"Parsing succeeded.\"\n",
      "[2023-08-08 14:00:55-0400 INFO chain_data_analysis_code_editing_and_execution_0 council.skills.skill_base:execute_skill:82] message=\"skill execution started\" skill=\"PythonExecutionSkill\"\n"
     ]
    },
    {
     "name": "stdout",
     "output_type": "stream",
     "text": [
      "Starting execution...\n"
     ]
    },
    {
     "name": "stderr",
     "output_type": "stream",
     "text": [
      "[2023-08-08 14:01:04-0400 INFO chain_data_analysis_code_editing_and_execution_0 council.skills.skill_base:execute_skill:85] message=\"skill execution ended\" skill=\"PythonExecutionSkill\" skill_message=\"Plotted the top 10 data series related to the food consumer price index from the FRED database.\"\n",
      "[2023-08-08 14:01:04-0400 INFO MainThread council.agents.agent:execute:76] message=\"chain execution ended\" chain=\"data_analysis_code_editing_and_execution\" execution_unit=\"data_analysis_code_editing_and_execution;8\"\n",
      "[2023-08-08 14:01:04-0400 INFO MainThread council.agents.agent:execute:88] message=\"agent execution ended\"\n"
     ]
    },
    {
     "name": "stdout",
     "output_type": "stream",
     "text": [
      "Plotted the top 10 data series related to the food consumer price index from the FRED database.\n",
      "\n"
     ]
    }
   ],
   "source": [
    "message = \"can we plot the top 10?\"\n",
    "interact(agent, context, message)"
   ]
  },
  {
   "cell_type": "code",
   "execution_count": 16,
   "metadata": {},
   "outputs": [
    {
     "name": "stderr",
     "output_type": "stream",
     "text": [
      "[2023-08-08 14:01:04-0400 INFO MainThread council.agents.agent:execute:60] message=\"agent execution started\"\n",
      "[2023-08-08 14:01:04-0400 INFO MainThread council.agents.agent:execute:62] message=\"agent iteration started\" iteration=\"4\"\n"
     ]
    },
    {
     "name": "stdout",
     "output_type": "stream",
     "text": [
      "User Message: scale the data before plotting\n"
     ]
    },
    {
     "name": "stderr",
     "output_type": "stream",
     "text": [
      "[2023-08-08 14:01:12-0400 INFO MainThread council:get_plan:130] Controller Message: data_analysis_code_editing_and_execution;9;The user wants to scale the data before plotting. Please edit the existing code to include a data scaling step before the plotting step. You can use a suitable scaling method like MinMaxScaler or StandardScaler from sklearn.preprocessing. After scaling, proceed with the plotting as before.\n",
      "[2023-08-08 14:01:12-0400 INFO MainThread council.agents.agent:execute:71] message=\"chain execution started\" chain=\"data_analysis_code_editing_and_execution\" execution_unit=\"data_analysis_code_editing_and_execution;9\"\n",
      "[2023-08-08 14:01:12-0400 INFO chain_data_analysis_code_editing_and_execution_0 council.skills.skill_base:execute_skill:82] message=\"skill execution started\" skill=\"PythonCodeEditorSkill\"\n",
      "[2023-08-08 14:01:30-0400 INFO MainThread council.agents.agent:execute:88] message=\"agent execution ended\"\n"
     ]
    },
    {
     "ename": "KeyboardInterrupt",
     "evalue": "",
     "output_type": "error",
     "traceback": [
      "\u001b[0;31m---------------------------------------------------------------------------\u001b[0m",
      "\u001b[0;31mKeyboardInterrupt\u001b[0m                         Traceback (most recent call last)",
      "Cell \u001b[0;32mIn[16], line 2\u001b[0m\n\u001b[1;32m      1\u001b[0m message \u001b[39m=\u001b[39m \u001b[39m\"\u001b[39m\u001b[39mscale the data before plotting\u001b[39m\u001b[39m\"\u001b[39m\n\u001b[0;32m----> 2\u001b[0m interact(agent, context, message)\n",
      "Cell \u001b[0;32mIn[12], line 4\u001b[0m, in \u001b[0;36minteract\u001b[0;34m(agent, context, message)\u001b[0m\n\u001b[1;32m      2\u001b[0m \u001b[39mprint\u001b[39m(\u001b[39mf\u001b[39m\u001b[39m\"\u001b[39m\u001b[39mUser Message: \u001b[39m\u001b[39m{\u001b[39;00mmessage\u001b[39m}\u001b[39;00m\u001b[39m\"\u001b[39m)\n\u001b[1;32m      3\u001b[0m context\u001b[39m.\u001b[39mchatHistory\u001b[39m.\u001b[39madd_user_message(message)\n\u001b[0;32m----> 4\u001b[0m result \u001b[39m=\u001b[39m agent\u001b[39m.\u001b[39;49mexecute(context\u001b[39m=\u001b[39;49mcontext, budget\u001b[39m=\u001b[39;49mBudget(\u001b[39m180\u001b[39;49m))\n\u001b[1;32m      5\u001b[0m \u001b[39mprint\u001b[39m(result\u001b[39m.\u001b[39mbest_message\u001b[39m.\u001b[39mmessage)\n\u001b[1;32m      6\u001b[0m \u001b[39mprint\u001b[39m()\n",
      "File \u001b[0;32m~/council-fred-analyst/.conda/lib/python3.11/site-packages/council/agents/agent.py:75\u001b[0m, in \u001b[0;36mAgent.execute\u001b[0;34m(self, context, budget)\u001b[0m\n\u001b[1;32m     73\u001b[0m     \u001b[39mif\u001b[39;00m unit\u001b[39m.\u001b[39minitial_state \u001b[39mis\u001b[39;00m \u001b[39mnot\u001b[39;00m \u001b[39mNone\u001b[39;00m:\n\u001b[1;32m     74\u001b[0m         chain_context\u001b[39m.\u001b[39mcurrent\u001b[39m.\u001b[39mappend(unit\u001b[39m.\u001b[39minitial_state)\n\u001b[0;32m---> 75\u001b[0m     chain\u001b[39m.\u001b[39;49mexecute(chain_context, budget)\n\u001b[1;32m     76\u001b[0m     logger\u001b[39m.\u001b[39minfo(\u001b[39mf\u001b[39m\u001b[39m'\u001b[39m\u001b[39mmessage=\u001b[39m\u001b[39m\"\u001b[39m\u001b[39mchain execution ended\u001b[39m\u001b[39m\"\u001b[39m\u001b[39m chain=\u001b[39m\u001b[39m\"\u001b[39m\u001b[39m{\u001b[39;00mchain\u001b[39m.\u001b[39mname\u001b[39m}\u001b[39;00m\u001b[39m\"\u001b[39m\u001b[39m execution_unit=\u001b[39m\u001b[39m\"\u001b[39m\u001b[39m{\u001b[39;00munit\u001b[39m.\u001b[39mname\u001b[39m}\u001b[39;00m\u001b[39m\"\u001b[39m\u001b[39m'\u001b[39m)\n\u001b[1;32m     78\u001b[0m result \u001b[39m=\u001b[39m \u001b[39mself\u001b[39m\u001b[39m.\u001b[39mevaluator\u001b[39m.\u001b[39mexecute(context, budget)\n",
      "File \u001b[0;32m~/council-fred-analyst/.conda/lib/python3.11/site-packages/council/chains/chain.py:72\u001b[0m, in \u001b[0;36mChain.execute\u001b[0;34m(self, context, budget, executor)\u001b[0m\n\u001b[1;32m     55\u001b[0m \u001b[39m\u001b[39m\u001b[39m\"\"\"\u001b[39;00m\n\u001b[1;32m     56\u001b[0m \u001b[39mExecutes the chain of skills based on the provided context, budget, and optional executor.\u001b[39;00m\n\u001b[1;32m     57\u001b[0m \n\u001b[0;32m   (...)\u001b[0m\n\u001b[1;32m     67\u001b[0m \u001b[39m    None\u001b[39;00m\n\u001b[1;32m     68\u001b[0m \u001b[39m\"\"\"\u001b[39;00m\n\u001b[1;32m     69\u001b[0m executor \u001b[39m=\u001b[39m (\n\u001b[1;32m     70\u001b[0m     RunnerExecutor(max_workers\u001b[39m=\u001b[39m\u001b[39m10\u001b[39m, thread_name_prefix\u001b[39m=\u001b[39m\u001b[39mf\u001b[39m\u001b[39m\"\u001b[39m\u001b[39mchain_\u001b[39m\u001b[39m{\u001b[39;00m\u001b[39mself\u001b[39m\u001b[39m.\u001b[39mname\u001b[39m}\u001b[39;00m\u001b[39m\"\u001b[39m) \u001b[39mif\u001b[39;00m executor \u001b[39mis\u001b[39;00m \u001b[39mNone\u001b[39;00m \u001b[39melse\u001b[39;00m executor\n\u001b[1;32m     71\u001b[0m )\n\u001b[0;32m---> 72\u001b[0m \u001b[39mself\u001b[39;49m\u001b[39m.\u001b[39;49mrunner\u001b[39m.\u001b[39;49mrun_from_chain_context(context, budget, executor)\n",
      "File \u001b[0;32m~/council-fred-analyst/.conda/lib/python3.11/site-packages/council/runners/runner_base.py:19\u001b[0m, in \u001b[0;36mRunnerBase.run_from_chain_context\u001b[0;34m(self, chain_context, budget, executor)\u001b[0m\n\u001b[1;32m     17\u001b[0m context \u001b[39m=\u001b[39m RunnerContext(chain_context, budget)\n\u001b[1;32m     18\u001b[0m \u001b[39mtry\u001b[39;00m:\n\u001b[0;32m---> 19\u001b[0m     \u001b[39mself\u001b[39;49m\u001b[39m.\u001b[39;49mrun(context, executor)\n\u001b[1;32m     20\u001b[0m \u001b[39mfinally\u001b[39;00m:\n\u001b[1;32m     21\u001b[0m     chain_context\u001b[39m.\u001b[39mcurrent\u001b[39m.\u001b[39mextend(context\u001b[39m.\u001b[39mmessages)\n",
      "File \u001b[0;32m~/council-fred-analyst/.conda/lib/python3.11/site-packages/council/runners/runner_base.py:37\u001b[0m, in \u001b[0;36mRunnerBase.run\u001b[0;34m(self, context, executor)\u001b[0m\n\u001b[1;32m     35\u001b[0m logger\u001b[39m.\u001b[39mdebug(\u001b[39m\"\u001b[39m\u001b[39mstart running \u001b[39m\u001b[39m%s\u001b[39;00m\u001b[39m\"\u001b[39m, \u001b[39mself\u001b[39m\u001b[39m.\u001b[39m\u001b[39m__class__\u001b[39m\u001b[39m.\u001b[39m\u001b[39m__name__\u001b[39m)\n\u001b[1;32m     36\u001b[0m \u001b[39mtry\u001b[39;00m:\n\u001b[0;32m---> 37\u001b[0m     \u001b[39mself\u001b[39;49m\u001b[39m.\u001b[39;49m_run(context, executor)\n\u001b[1;32m     38\u001b[0m \u001b[39mexcept\u001b[39;00m futures\u001b[39m.\u001b[39mTimeoutError \u001b[39mas\u001b[39;00m e:\n\u001b[1;32m     39\u001b[0m     logger\u001b[39m.\u001b[39mdebug(\u001b[39m\"\u001b[39m\u001b[39mtimeout running \u001b[39m\u001b[39m%s\u001b[39;00m\u001b[39m\"\u001b[39m, \u001b[39mself\u001b[39m\u001b[39m.\u001b[39m\u001b[39m__class__\u001b[39m\u001b[39m.\u001b[39m\u001b[39m__name__\u001b[39m)\n",
      "File \u001b[0;32m~/council-fred-analyst/.conda/lib/python3.11/site-packages/council/runners/sequential.py:22\u001b[0m, in \u001b[0;36mSequential._run\u001b[0;34m(self, context, executor)\u001b[0m\n\u001b[1;32m     20\u001b[0m \u001b[39mif\u001b[39;00m context\u001b[39m.\u001b[39mshould_stop():\n\u001b[1;32m     21\u001b[0m     \u001b[39mreturn\u001b[39;00m\n\u001b[0;32m---> 22\u001b[0m runner\u001b[39m.\u001b[39;49mrun(context, executor)\n",
      "File \u001b[0;32m~/council-fred-analyst/.conda/lib/python3.11/site-packages/council/runners/runner_base.py:37\u001b[0m, in \u001b[0;36mRunnerBase.run\u001b[0;34m(self, context, executor)\u001b[0m\n\u001b[1;32m     35\u001b[0m logger\u001b[39m.\u001b[39mdebug(\u001b[39m\"\u001b[39m\u001b[39mstart running \u001b[39m\u001b[39m%s\u001b[39;00m\u001b[39m\"\u001b[39m, \u001b[39mself\u001b[39m\u001b[39m.\u001b[39m\u001b[39m__class__\u001b[39m\u001b[39m.\u001b[39m\u001b[39m__name__\u001b[39m)\n\u001b[1;32m     36\u001b[0m \u001b[39mtry\u001b[39;00m:\n\u001b[0;32m---> 37\u001b[0m     \u001b[39mself\u001b[39;49m\u001b[39m.\u001b[39;49m_run(context, executor)\n\u001b[1;32m     38\u001b[0m \u001b[39mexcept\u001b[39;00m futures\u001b[39m.\u001b[39mTimeoutError \u001b[39mas\u001b[39;00m e:\n\u001b[1;32m     39\u001b[0m     logger\u001b[39m.\u001b[39mdebug(\u001b[39m\"\u001b[39m\u001b[39mtimeout running \u001b[39m\u001b[39m%s\u001b[39;00m\u001b[39m\"\u001b[39m, \u001b[39mself\u001b[39m\u001b[39m.\u001b[39m\u001b[39m__class__\u001b[39m\u001b[39m.\u001b[39m\u001b[39m__name__\u001b[39m)\n",
      "File \u001b[0;32m~/council-fred-analyst/.conda/lib/python3.11/site-packages/council/runners/skill_runner_base.py:28\u001b[0m, in \u001b[0;36mSkillRunnerBase._run\u001b[0;34m(self, context, executor)\u001b[0m\n\u001b[1;32m     23\u001b[0m \u001b[39mdef\u001b[39;00m \u001b[39m_run\u001b[39m(\n\u001b[1;32m     24\u001b[0m     \u001b[39mself\u001b[39m,\n\u001b[1;32m     25\u001b[0m     context: RunnerContext,\n\u001b[1;32m     26\u001b[0m     executor: RunnerExecutor,\n\u001b[1;32m     27\u001b[0m ) \u001b[39m-\u001b[39m\u001b[39m>\u001b[39m \u001b[39mNone\u001b[39;00m:\n\u001b[0;32m---> 28\u001b[0m     \u001b[39mself\u001b[39;49m\u001b[39m.\u001b[39;49mrun_skill(context, executor)\n",
      "File \u001b[0;32m~/council-fred-analyst/.conda/lib/python3.11/site-packages/council/runners/skill_runner_base.py:36\u001b[0m, in \u001b[0;36mSkillRunnerBase.run_skill\u001b[0;34m(self, context, executor)\u001b[0m\n\u001b[1;32m     34\u001b[0m future \u001b[39m=\u001b[39m executor\u001b[39m.\u001b[39msubmit(\u001b[39mself\u001b[39m\u001b[39m.\u001b[39mrun_in_current_thread, context, IterationContext\u001b[39m.\u001b[39mempty())\n\u001b[1;32m     35\u001b[0m \u001b[39mtry\u001b[39;00m:\n\u001b[0;32m---> 36\u001b[0m     future\u001b[39m.\u001b[39;49mresult(timeout\u001b[39m=\u001b[39;49mcontext\u001b[39m.\u001b[39;49mbudget\u001b[39m.\u001b[39;49mremaining()\u001b[39m.\u001b[39;49mduration)\n\u001b[1;32m     37\u001b[0m \u001b[39mfinally\u001b[39;00m:\n\u001b[1;32m     38\u001b[0m     future\u001b[39m.\u001b[39mcancel()\n",
      "File \u001b[0;32m~/council-fred-analyst/.conda/lib/python3.11/concurrent/futures/_base.py:451\u001b[0m, in \u001b[0;36mFuture.result\u001b[0;34m(self, timeout)\u001b[0m\n\u001b[1;32m    448\u001b[0m \u001b[39melif\u001b[39;00m \u001b[39mself\u001b[39m\u001b[39m.\u001b[39m_state \u001b[39m==\u001b[39m FINISHED:\n\u001b[1;32m    449\u001b[0m     \u001b[39mreturn\u001b[39;00m \u001b[39mself\u001b[39m\u001b[39m.\u001b[39m__get_result()\n\u001b[0;32m--> 451\u001b[0m \u001b[39mself\u001b[39;49m\u001b[39m.\u001b[39;49m_condition\u001b[39m.\u001b[39;49mwait(timeout)\n\u001b[1;32m    453\u001b[0m \u001b[39mif\u001b[39;00m \u001b[39mself\u001b[39m\u001b[39m.\u001b[39m_state \u001b[39min\u001b[39;00m [CANCELLED, CANCELLED_AND_NOTIFIED]:\n\u001b[1;32m    454\u001b[0m     \u001b[39mraise\u001b[39;00m CancelledError()\n",
      "File \u001b[0;32m~/council-fred-analyst/.conda/lib/python3.11/threading.py:324\u001b[0m, in \u001b[0;36mCondition.wait\u001b[0;34m(self, timeout)\u001b[0m\n\u001b[1;32m    322\u001b[0m \u001b[39melse\u001b[39;00m:\n\u001b[1;32m    323\u001b[0m     \u001b[39mif\u001b[39;00m timeout \u001b[39m>\u001b[39m \u001b[39m0\u001b[39m:\n\u001b[0;32m--> 324\u001b[0m         gotit \u001b[39m=\u001b[39m waiter\u001b[39m.\u001b[39;49macquire(\u001b[39mTrue\u001b[39;49;00m, timeout)\n\u001b[1;32m    325\u001b[0m     \u001b[39melse\u001b[39;00m:\n\u001b[1;32m    326\u001b[0m         gotit \u001b[39m=\u001b[39m waiter\u001b[39m.\u001b[39macquire(\u001b[39mFalse\u001b[39;00m)\n",
      "\u001b[0;31mKeyboardInterrupt\u001b[0m: "
     ]
    },
    {
     "name": "stderr",
     "output_type": "stream",
     "text": [
      "[2023-08-08 14:01:59-0400 INFO chain_data_analysis_code_editing_and_execution_0 council.skills.skill_base:execute_skill:85] message=\"skill execution ended\" skill=\"PythonCodeEditorSkill\" skill_message=\"I've edited code for you and placed the result in the 'data' field.\"\n"
     ]
    }
   ],
   "source": [
    "message = \"scale the data before plotting\"\n",
    "interact(agent, context, message)"
   ]
  },
  {
   "cell_type": "code",
   "execution_count": null,
   "metadata": {},
   "outputs": [],
   "source": []
  }
 ],
 "metadata": {
  "kernelspec": {
   "display_name": "chainml-hackathon",
   "language": "python",
   "name": "python3"
  },
  "language_info": {
   "codemirror_mode": {
    "name": "ipython",
    "version": 3
   },
   "file_extension": ".py",
   "mimetype": "text/x-python",
   "name": "python",
   "nbconvert_exporter": "python",
   "pygments_lexer": "ipython3",
   "version": "3.11.4"
  },
  "orig_nbformat": 4
 },
 "nbformat": 4,
 "nbformat_minor": 2
}
